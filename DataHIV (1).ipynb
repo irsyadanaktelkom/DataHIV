{
  "nbformat": 4,
  "nbformat_minor": 0,
  "metadata": {
    "colab": {
      "provenance": []
    },
    "kernelspec": {
      "name": "python3",
      "display_name": "Python 3"
    },
    "language_info": {
      "name": "python"
    }
  },
  "cells": [
    {
      "cell_type": "code",
      "execution_count": 1,
      "metadata": {
        "colab": {
          "base_uri": "https://localhost:8080/",
          "height": 17
        },
        "id": "Lvn0D_P3zxco",
        "outputId": "3c65714d-dad7-4f7e-90fc-92d670add234"
      },
      "outputs": [
        {
          "output_type": "display_data",
          "data": {
            "text/plain": [
              "<IPython.core.display.Javascript object>"
            ],
            "application/javascript": [
              "\n",
              "    async function download(id, filename, size) {\n",
              "      if (!google.colab.kernel.accessAllowed) {\n",
              "        return;\n",
              "      }\n",
              "      const div = document.createElement('div');\n",
              "      const label = document.createElement('label');\n",
              "      label.textContent = `Downloading \"${filename}\": `;\n",
              "      div.appendChild(label);\n",
              "      const progress = document.createElement('progress');\n",
              "      progress.max = size;\n",
              "      div.appendChild(progress);\n",
              "      document.body.appendChild(div);\n",
              "\n",
              "      const buffers = [];\n",
              "      let downloaded = 0;\n",
              "\n",
              "      const channel = await google.colab.kernel.comms.open(id);\n",
              "      // Send a message to notify the kernel that we're ready.\n",
              "      channel.send({})\n",
              "\n",
              "      for await (const message of channel.messages) {\n",
              "        // Send a message to notify the kernel that we're ready.\n",
              "        channel.send({})\n",
              "        if (message.buffers) {\n",
              "          for (const buffer of message.buffers) {\n",
              "            buffers.push(buffer);\n",
              "            downloaded += buffer.byteLength;\n",
              "            progress.value = downloaded;\n",
              "          }\n",
              "        }\n",
              "      }\n",
              "      const blob = new Blob(buffers, {type: 'application/binary'});\n",
              "      const a = document.createElement('a');\n",
              "      a.href = window.URL.createObjectURL(blob);\n",
              "      a.download = filename;\n",
              "      div.appendChild(a);\n",
              "      a.click();\n",
              "      div.remove();\n",
              "    }\n",
              "  "
            ]
          },
          "metadata": {}
        },
        {
          "output_type": "display_data",
          "data": {
            "text/plain": [
              "<IPython.core.display.Javascript object>"
            ],
            "application/javascript": [
              "download(\"download_953f5a32-6b66-4cc5-817b-60d95a53bf92\", \"visualization.html\", 89128)"
            ]
          },
          "metadata": {}
        }
      ],
      "source": []
    },
    {
      "cell_type": "markdown",
      "source": [
        "# # Batas"
      ],
      "metadata": {
        "id": "lJTI_MgRH76V"
      }
    },
    {
      "cell_type": "code",
      "source": [],
      "metadata": {
        "colab": {
          "base_uri": "https://localhost:8080/",
          "height": 17
        },
        "id": "iHleyOJ00GXf",
        "outputId": "2ba3d519-9575-4872-9737-67c0cb200c3c"
      },
      "execution_count": 2,
      "outputs": [
        {
          "output_type": "display_data",
          "data": {
            "text/plain": [
              "<IPython.core.display.Javascript object>"
            ],
            "application/javascript": [
              "\n",
              "    async function download(id, filename, size) {\n",
              "      if (!google.colab.kernel.accessAllowed) {\n",
              "        return;\n",
              "      }\n",
              "      const div = document.createElement('div');\n",
              "      const label = document.createElement('label');\n",
              "      label.textContent = `Downloading \"${filename}\": `;\n",
              "      div.appendChild(label);\n",
              "      const progress = document.createElement('progress');\n",
              "      progress.max = size;\n",
              "      div.appendChild(progress);\n",
              "      document.body.appendChild(div);\n",
              "\n",
              "      const buffers = [];\n",
              "      let downloaded = 0;\n",
              "\n",
              "      const channel = await google.colab.kernel.comms.open(id);\n",
              "      // Send a message to notify the kernel that we're ready.\n",
              "      channel.send({})\n",
              "\n",
              "      for await (const message of channel.messages) {\n",
              "        // Send a message to notify the kernel that we're ready.\n",
              "        channel.send({})\n",
              "        if (message.buffers) {\n",
              "          for (const buffer of message.buffers) {\n",
              "            buffers.push(buffer);\n",
              "            downloaded += buffer.byteLength;\n",
              "            progress.value = downloaded;\n",
              "          }\n",
              "        }\n",
              "      }\n",
              "      const blob = new Blob(buffers, {type: 'application/binary'});\n",
              "      const a = document.createElement('a');\n",
              "      a.href = window.URL.createObjectURL(blob);\n",
              "      a.download = filename;\n",
              "      div.appendChild(a);\n",
              "      a.click();\n",
              "      div.remove();\n",
              "    }\n",
              "  "
            ]
          },
          "metadata": {}
        },
        {
          "output_type": "display_data",
          "data": {
            "text/plain": [
              "<IPython.core.display.Javascript object>"
            ],
            "application/javascript": [
              "download(\"download_3caaa038-d67e-416e-890b-47e79ee7ee0c\", \"visualization.html\", 92066)"
            ]
          },
          "metadata": {}
        }
      ]
    },
    {
      "cell_type": "code",
      "source": [
        "import pandas as pd\n",
        "from bokeh.io import output_file, save\n",
        "from bokeh.plotting import figure\n",
        "from bokeh.models import ColumnDataSource, Slider, Select, CustomJS, HoverTool\n",
        "from bokeh.layouts import column\n",
        "\n",
        "# Buka file csvnya\n",
        "hiv_data = pd.read_csv('hiv.csv')\n",
        "\n",
        "# Tentukan nama file HTML untuk dijadikan\n",
        "output_file('HIVisualbokeh.html')\n",
        "\n",
        "# Membuat kolom datasource\n",
        "source = ColumnDataSource(hiv_data)\n",
        "\n",
        "# Membuat grafik dengan x merupakan jumlah kasus dan y merupakan kelompok umur yang angkanya disesuaikan dengan\n",
        "# angka grafik\n",
        "# Misalnya, y: -1 sampai 0 = Kelompok umur dari 0-4, 5-14 dan 15-19 tahun\n",
        "# y: 0 smapai 1 = Kelompok umur dari 20-24, 25-49 dan 50 keatas.\n",
        "p = figure(plot_width=400, plot_height=400, x_axis_label='Jumlah Kasus', y_axis_label='Kelompok Umur')\n",
        "\n",
        "# Membuat hovertool untuk melihat keterangan Kota/Kabupaten di Jawa Barat\n",
        "hover = HoverTool(tooltips=[('Kabupaten/Kota', '@nama_kabupaten_kota')])\n",
        "\n",
        "# Membuat scatter plot untuk setiap gender.\n",
        "gender_glyphs = {}\n",
        "for gender in hiv_data['jenis_kelamin'].unique():\n",
        "    gender_glyphs[gender] = p.circle('jumlah_kasus', 'kelompok_umur', source=source, size=8, color='red', alpha=0.5)\n",
        "\n",
        "# Membuat selektor per jenis kelamin.\n",
        "gender_list = list(hiv_data['jenis_kelamin'].unique())\n",
        "select_gender = Select(title='Jenis Kelamin', options=gender_list, value='All')\n",
        "\n",
        "# Membuat slider berdasarkan tahun.\n",
        "slider = Slider(start=min(hiv_data['tahun']), end=max(hiv_data['tahun']), value=min(hiv_data['tahun']), step=1, title='Tahun')\n",
        "\n",
        "# Membuat fungsi callback untuk mengatur slider dan selektornya\n",
        "callback = CustomJS(args=dict(source=source, slider=slider, select_gender=select_gender, gender_glyphs=gender_glyphs), code=\"\"\"\n",
        "    const data = source.data;\n",
        "    const value = slider.value;\n",
        "    const selectedGender = select_gender.value;\n",
        "    const x = data['jumlah_kasus'];\n",
        "    const y = data['kelompok_umur'];\n",
        "    const gender = data['jenis_kelamin'];\n",
        "    const tahun = data['tahun'];\n",
        "\n",
        "    for (let i = 0; i < x.length; i++) {\n",
        "        if ((selectedGender === 'All' || gender[i] === selectedGender) && tahun[i] === value) {\n",
        "            y[i] = Math.sin(x[i]);  // Modify the transformation according to your needs\n",
        "        } else {\n",
        "            y[i] = null;\n",
        "        }\n",
        "    }\n",
        "\n",
        "    source.change.emit();\n",
        "\n",
        "    for (const [gender, glyph] of Object.entries(gender_glyphs)) {\n",
        "        if (selectedGender === 'All' || gender === selectedGender) {\n",
        "            glyph.glyph.fill_alpha = 0.5;\n",
        "        } else {\n",
        "            glyph.glyph.fill_alpha = 0;\n",
        "        }\n",
        "    }\n",
        "\"\"\")\n",
        "\n",
        "# Memanggil fungsi callback agar bisa diubah dan niai pada plotnya juga berubah\n",
        "select_gender.js_on_change('value', callback)\n",
        "slider.js_on_change('value', callback)\n",
        "\n",
        "# Membuat layout agar dapat ditampilkan\n",
        "layout = column(select_gender, p, slider)\n",
        "\n",
        "# Menyimpan file dalam bentuk .HTML\n",
        "save(layout)\n",
        "\n",
        "# Mengunduh HTML dikarenakan program dibuat di google colab\n",
        "from google.colab import files\n",
        "files.download('HIVisualbokeh.html')\n"
      ],
      "metadata": {
        "colab": {
          "base_uri": "https://localhost:8080/",
          "height": 17
        },
        "id": "ln6uHNF3IAHb",
        "outputId": "e5ae72ec-cb31-4064-b4a0-1aab61f9bf09"
      },
      "execution_count": 2,
      "outputs": [
        {
          "output_type": "display_data",
          "data": {
            "text/plain": [
              "<IPython.core.display.Javascript object>"
            ],
            "application/javascript": [
              "\n",
              "    async function download(id, filename, size) {\n",
              "      if (!google.colab.kernel.accessAllowed) {\n",
              "        return;\n",
              "      }\n",
              "      const div = document.createElement('div');\n",
              "      const label = document.createElement('label');\n",
              "      label.textContent = `Downloading \"${filename}\": `;\n",
              "      div.appendChild(label);\n",
              "      const progress = document.createElement('progress');\n",
              "      progress.max = size;\n",
              "      div.appendChild(progress);\n",
              "      document.body.appendChild(div);\n",
              "\n",
              "      const buffers = [];\n",
              "      let downloaded = 0;\n",
              "\n",
              "      const channel = await google.colab.kernel.comms.open(id);\n",
              "      // Send a message to notify the kernel that we're ready.\n",
              "      channel.send({})\n",
              "\n",
              "      for await (const message of channel.messages) {\n",
              "        // Send a message to notify the kernel that we're ready.\n",
              "        channel.send({})\n",
              "        if (message.buffers) {\n",
              "          for (const buffer of message.buffers) {\n",
              "            buffers.push(buffer);\n",
              "            downloaded += buffer.byteLength;\n",
              "            progress.value = downloaded;\n",
              "          }\n",
              "        }\n",
              "      }\n",
              "      const blob = new Blob(buffers, {type: 'application/binary'});\n",
              "      const a = document.createElement('a');\n",
              "      a.href = window.URL.createObjectURL(blob);\n",
              "      a.download = filename;\n",
              "      div.appendChild(a);\n",
              "      a.click();\n",
              "      div.remove();\n",
              "    }\n",
              "  "
            ]
          },
          "metadata": {}
        },
        {
          "output_type": "display_data",
          "data": {
            "text/plain": [
              "<IPython.core.display.Javascript object>"
            ],
            "application/javascript": [
              "download(\"download_c01d6dd8-c416-4315-aa6f-4158ecbc39e2\", \"HIVisualbokeh.html\", 89524)"
            ]
          },
          "metadata": {}
        }
      ]
    }
  ]
}